{
 "cells": [
  {
   "cell_type": "markdown",
   "metadata": {},
   "source": [
    "# Week 1 - Getting started with Python and Jupyter Lab\n",
    "\n",
    "# Setup\n",
    "\n",
    "Programming for this course will be done in python 3. We will be using Jupyter notebooks in a Jupyter lab environment for programming tasks.\n",
    "\n",
    "There will be two main ways we will interact with Python:\n",
    "\n",
    "1. Jupyter Notebook - The actual document where you will code and write your notes (Like this one!)\n",
    "2. Jupyter Lab - A browser based environment for coding projects where you can edit your notebooks, manage files, and use the virtual terminal.\n",
    "\n",
    "\n",
    "For the tutorials you can either:\n",
    "\n",
    "Use the Jupyter Lab web server at [cloudstor.aarnet.edu.au](cloudstor.aarnet.edu.au). Where you will sign in with your university account and launch a SWAN session to work on these tutorials.\n",
    "\n",
    "OR\n",
    "\n",
    "Set up a local Jupyter Lab installation on your own computer. See [Project Jupyter](https://jupyter.org/install) for more info.\n",
    "\n",
    "\n",
    "## Jupyter notebooks\n",
    "\n",
    "* Jupyter notebooks provide an interactive and reproducible programming environment to work with.\n",
    "* Jupyter notebooks allow you to merge code with text in the form of markdown.\n",
    "* All this combined means that reports are no longer static. Users can interact with reports, change code, play with interactive figures, and lots more...\n",
    "\n",
    "For more information visit <https://jupyter.org/>\n",
    "\n",
    "## Jupyter lab\n",
    "\n",
    "This is what you are likely looking at after logging on to the [SWAN](cloudstor.aarnet.edu.au) server. \n",
    "\n",
    "You will need to clone and upload the tutorial repo to your cloudstor account using the terminal app before launching the notebooks.\n",
    "\n",
    "You will be using 4 main components of jupyter lab:\n",
    "\n",
    "1. The code editor\n",
    "2. The file browser\n",
    "3. A command line terminal - where you type UNIX commands\n",
    "4. A code console - where you run python code\n",
    "\n",
    "Please familiarise yourself with Jupyter lab as you will be relying on it through out the course. The documentation <https://jupyterlab.readthedocs.io> is nice and concise.\n",
    "\n",
    "Some useful hotkeys are:\n",
    "    \n",
    "* Shift-Enter : execute the code in the current cell\n",
    "* Enter : edit the current cell\n",
    "* ESC : stop editing a cell and return to \"command mode\" to use other hotkeys\n",
    "* m : Turn the current cell into a Markdown cell\n",
    "* y : Turn the current cell into a code cell\n",
    "* a : add a new cell above\n",
    "* b : add a new cell below\n",
    "* dd : delete the current cell\n",
    "* c : copy the current cell\n",
    "* v : paste the copied cell(s)\n",
    "\n",
    "You can also execute the command ? or help() to get help on any function. For instance, sorted? or help(sorted).\n",
    "\n",
    "\n",
    "## Using Git and GitHub\n",
    "\n",
    "All tutorial materials for this course are hosted on GitHub. Git is a version control system that is commonly used when programming. It is good practice to use version control systems when coding to avoid those nasty surprises where all your work for no reason at all (it does happen!). GitHub is a service that allows you to have your version controlled code online (like this repository).\n",
    "\n",
    "Common commands you will be using are:\n",
    "\n",
    "1. `git clone https://github.com/Adamtaranto/COMP90014_2021 ' - to make a copy of this repository today\n",
    "2. `git pull` - to download changes made every week (i.e. to download the content for each week's tutorial)\n",
    "\n",
    "Excluding the first week, each week you will be following the procedure below to avoid complications when using git:\n",
    "\n",
    "1. Perform a pull using `git pull` - this will download any changes e.g. addition of week1.ipynb\n",
    "2. Create a copy of the tutorial document e.g. copy week1.ipynb to week1_ataranto.ipynb\n",
    "3. Edit the copied version **NOT** the original (edit week1_ataranto.ipynb)\n",
    "\n",
    "Editing the original file will result in complications if you are not familiar with git. If you run into errors, ask your tutor during tutorials and I will help you with them.\n",
    "\n",
    "Too much text? Let your tutor help you out with a demo"
   ]
  },
  {
   "cell_type": "markdown",
   "metadata": {},
   "source": [
    "# Now onto programming in Jupyter Notebooks\n",
    "\n",
    "If you are completely new to Python, or would like to refresh your skills for these tutorials, I recommend working through the [Python for Bioinformaticians](http://claresloggett.github.io/python_workshops/) workshop. Many of the specific examples used here will be valuable to you in later weeks.\n",
    "\n",
    "For a more general introduction to Python you can complete the Software Carpentry [Programming with Python](https://swcarpentry.github.io/python-novice-inflammation/) workshop. These tutorials go into greater detail on good programming practice.\n",
    "\n",
    "Here we will cover some Python basics."
   ]
  },
  {
   "cell_type": "markdown",
   "metadata": {},
   "source": [
    "(The cell below is a code cell. Run the cell to see the output of that code (Shift + ENTER))\n",
    "\n",
    "**Using the Python interpreter as a calculator**"
   ]
  },
  {
   "cell_type": "code",
   "execution_count": 5,
   "metadata": {},
   "outputs": [],
   "source": [
    "# Math example"
   ]
  },
  {
   "cell_type": "markdown",
   "metadata": {},
   "source": [
    "**Assigning values to variables**\n",
    "\n",
    "In Python, variable names:\n",
    "- can include letters, digits, and underscores\n",
    "- cannot start with a digit\n",
    "- are case sensitive."
   ]
  },
  {
   "cell_type": "code",
   "execution_count": 7,
   "metadata": {},
   "outputs": [],
   "source": [
    "# Variable example"
   ]
  },
  {
   "cell_type": "markdown",
   "metadata": {},
   "source": [
    "**Data types**\n",
    "\n",
    "Python knows various types of data. Some common ones are:\n",
    "\n",
    "- integer numbers\n",
    "- floating point numbers, and\n",
    "- strings"
   ]
  },
  {
   "cell_type": "code",
   "execution_count": 49,
   "metadata": {},
   "outputs": [],
   "source": [
    "# Basic data types"
   ]
  },
  {
   "cell_type": "markdown",
   "metadata": {},
   "source": [
    "**Collections of data**\n"
   ]
  },
  {
   "cell_type": "code",
   "execution_count": 13,
   "metadata": {},
   "outputs": [],
   "source": [
    "# Lists\n",
    "listA = []\n",
    "listB = []\n"
   ]
  },
  {
   "cell_type": "code",
   "execution_count": null,
   "metadata": {},
   "outputs": [],
   "source": [
    "# Combining lists\n",
    "listC = zip()"
   ]
  },
  {
   "cell_type": "code",
   "execution_count": 50,
   "metadata": {},
   "outputs": [],
   "source": [
    "# Indexing and Slicing lists\n",
    "\n",
    "# First item\n",
    "\n",
    "# Last item\n",
    "\n",
    "# Items in range\n",
    "\n",
    "# All but last n items\n",
    "\n",
    "# Every nth item\n",
    "\n",
    "# Reverse list (single neg steps)\n"
   ]
  },
  {
   "cell_type": "code",
   "execution_count": null,
   "metadata": {},
   "outputs": [],
   "source": [
    "# Dictionaries\n",
    "D = dict()\n",
    "D['tutors'] = \"\"\n",
    "D[\"students\"] = []"
   ]
  },
  {
   "cell_type": "code",
   "execution_count": null,
   "metadata": {},
   "outputs": [],
   "source": [
    "# Nested dictionaries\n",
    "outer_dictionary = dict()\n",
    "inner_dictionary = dict()\n",
    "\n",
    "inner_dictionary['firstName'] = \"Adam\"\n",
    "inner_dictionary['lastname'] = \"Taranto\"\n",
    "outer_dictionary['Person1'] = inner_dictionary\n",
    "\n",
    "print(outer_dictionary)\n",
    "print(outer_dictionary['Person1']['firstName'])\n",
    "\n",
    "print(inner_dictionary.keys())\n"
   ]
  },
  {
   "cell_type": "markdown",
   "metadata": {},
   "source": [
    "**Logical arguements**"
   ]
  },
  {
   "cell_type": "code",
   "execution_count": 9,
   "metadata": {},
   "outputs": [],
   "source": [
    "# True / False examples\n",
    "\n",
    "# If examples"
   ]
  },
  {
   "cell_type": "markdown",
   "metadata": {},
   "source": [
    "**Built in functions**"
   ]
  },
  {
   "cell_type": "code",
   "execution_count": null,
   "metadata": {},
   "outputs": [],
   "source": [
    "# Print example\n",
    "\n",
    "# Formatting example\n",
    "#\"{}-{}\".format(A, B)\n",
    "\n",
    "# min/max/mean/len"
   ]
  },
  {
   "cell_type": "markdown",
   "metadata": {},
   "source": [
    "**Writing functions**"
   ]
  },
  {
   "cell_type": "code",
   "execution_count": null,
   "metadata": {},
   "outputs": [],
   "source": [
    "# Write a function that returns three values and assign them to distinct variables\n",
    "\n"
   ]
  },
  {
   "cell_type": "markdown",
   "metadata": {},
   "source": [
    "**Loops**"
   ]
  },
  {
   "cell_type": "code",
   "execution_count": null,
   "metadata": {},
   "outputs": [],
   "source": [
    "# For loop\n",
    "\n",
    "# While loop\n",
    "# Print n as long as n is less than 5"
   ]
  },
  {
   "cell_type": "markdown",
   "metadata": {},
   "source": [
    "**Tables and Arrays**"
   ]
  },
  {
   "cell_type": "code",
   "execution_count": 15,
   "metadata": {},
   "outputs": [],
   "source": [
    "import pandas as pd\n",
    "import numpy as np"
   ]
  },
  {
   "cell_type": "markdown",
   "metadata": {},
   "source": [
    "**Pandas Tables**"
   ]
  },
  {
   "cell_type": "code",
   "execution_count": 48,
   "metadata": {},
   "outputs": [],
   "source": [
    "df = pd.DataFrame([[5,4,3,2],[10,10,6,8]])\n",
    "df"
   ]
  },
  {
   "cell_type": "code",
   "execution_count": 45,
   "metadata": {},
   "outputs": [
    {
     "data": {
      "text/html": [
       "<div>\n",
       "<style scoped>\n",
       "    .dataframe tbody tr th:only-of-type {\n",
       "        vertical-align: middle;\n",
       "    }\n",
       "\n",
       "    .dataframe tbody tr th {\n",
       "        vertical-align: top;\n",
       "    }\n",
       "\n",
       "    .dataframe thead th {\n",
       "        text-align: right;\n",
       "    }\n",
       "</style>\n",
       "<table border=\"1\" class=\"dataframe\">\n",
       "  <thead>\n",
       "    <tr style=\"text-align: right;\">\n",
       "      <th></th>\n",
       "      <th>A</th>\n",
       "      <th>B</th>\n",
       "      <th>C</th>\n",
       "      <th>D</th>\n",
       "    </tr>\n",
       "  </thead>\n",
       "  <tbody>\n",
       "    <tr>\n",
       "      <th>row1</th>\n",
       "      <td>5</td>\n",
       "      <td>4</td>\n",
       "      <td>3</td>\n",
       "      <td>2</td>\n",
       "    </tr>\n",
       "    <tr>\n",
       "      <th>row2</th>\n",
       "      <td>10</td>\n",
       "      <td>10</td>\n",
       "      <td>6</td>\n",
       "      <td>8</td>\n",
       "    </tr>\n",
       "  </tbody>\n",
       "</table>\n",
       "</div>"
      ],
      "text/plain": [
       "       A   B  C  D\n",
       "row1   5   4  3  2\n",
       "row2  10  10  6  8"
      ]
     },
     "execution_count": 45,
     "metadata": {},
     "output_type": "execute_result"
    }
   ],
   "source": [
    "data = [[5,4,3,2],[10,10,6,8]]\n",
    "rows = ['row1','row2']\n",
    "cols = ['A', 'B', 'C', 'D']\n",
    "df = pd.DataFrame([[5,4,3,2],[10,10,6,8]], index = rows, columns=cols)\n",
    "df"
   ]
  },
  {
   "cell_type": "code",
   "execution_count": null,
   "metadata": {},
   "outputs": [],
   "source": [
    "# Indexing tables \n",
    "df.loc[row_indexer,column_indexer]"
   ]
  },
  {
   "cell_type": "code",
   "execution_count": 46,
   "metadata": {},
   "outputs": [],
   "source": [
    "# Transpose a dataframe\n",
    "df.T"
   ]
  },
  {
   "cell_type": "code",
   "execution_count": 47,
   "metadata": {},
   "outputs": [],
   "source": [
    "df.transpose().mean()"
   ]
  },
  {
   "cell_type": "markdown",
   "metadata": {},
   "source": [
    "**Numpy arrays**"
   ]
  },
  {
   "cell_type": "code",
   "execution_count": 43,
   "metadata": {
    "scrolled": true
   },
   "outputs": [],
   "source": [
    "# Create an array\n",
    "a = np.array(42)\n",
    "\n",
    "# Check Type and dimensions\n",
    "type(a)\n",
    "a.ndim"
   ]
  },
  {
   "cell_type": "code",
   "execution_count": null,
   "metadata": {},
   "outputs": [],
   "source": [
    "# Create higher dimension arrays\n",
    "\n",
    "b = np.array([1, 2, 3, 4, 5])\n",
    "c = np.array([[1, 2, 3], [4, 5, 6]])"
   ]
  },
  {
   "cell_type": "code",
   "execution_count": null,
   "metadata": {},
   "outputs": [],
   "source": [
    "# The expression array.shape gives the shape of an array."
   ]
  },
  {
   "cell_type": "code",
   "execution_count": null,
   "metadata": {},
   "outputs": [],
   "source": [
    "# Use array[x, y] to select a single element from a 2D array."
   ]
  },
  {
   "cell_type": "code",
   "execution_count": null,
   "metadata": {},
   "outputs": [],
   "source": [
    "# Use np.mean(array), np.max(array), and np.min(array) to calculate simple statistics."
   ]
  },
  {
   "cell_type": "code",
   "execution_count": null,
   "metadata": {},
   "outputs": [],
   "source": [
    "# Use np.mean(array, axis=0) or np.mean(array, axis=1) to calculate statistics across the specified axis."
   ]
  }
 ],
 "metadata": {
  "kernelspec": {
   "display_name": "Python 3",
   "language": "python",
   "name": "python3"
  },
  "language_info": {
   "codemirror_mode": {
    "name": "ipython",
    "version": 3
   },
   "file_extension": ".py",
   "mimetype": "text/x-python",
   "name": "python",
   "nbconvert_exporter": "python",
   "pygments_lexer": "ipython3",
   "version": "3.8.8"
  }
 },
 "nbformat": 4,
 "nbformat_minor": 4
}
