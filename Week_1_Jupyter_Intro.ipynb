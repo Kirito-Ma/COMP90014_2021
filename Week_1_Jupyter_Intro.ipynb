{
 "cells": [
  {
   "cell_type": "markdown",
   "metadata": {},
   "source": [
    "# Week 1 - Getting started Python and Jupyter Lab\n",
    "\n",
    "# Setup\n",
    "\n",
    "Programming for this course will be done in python 3. We will be using Jupyter notebooks in a Jupyter lab environment for programming tasks.\n",
    "\n",
    "There will be three things that will of importance to you:\n",
    "\n",
    "1. Jupyter notebook - The actual document where you will code and write your notes\n",
    "2. Jupyter lab - A browser based environment to code in (this is where you edit your notebooks)\n",
    "3. Jupyter hub server - This is hosted on aarnet cloudstor, you can sign in with your university account and launch a SWAN session to work on these tutorials\n",
    "\n",
    "You can either use the web server at <cloudstor.aarnet.edu.au>\n",
    "\n",
    "OR\n",
    "\n",
    "Set up a local Jupyter installation on your own computer. Much harder. Come to me and ask for rescources if you'd like to do this. \n",
    "\n",
    "## Jupyter notebooks\n",
    "\n",
    "* Jupyter notebooks provide an interactive and reproducible programming environment to work with.\n",
    "* Jupyter notebooks allow you to merge code with text in the form of markdown.\n",
    "* All this combined means that reports are no longer static. Users can interact with reports, change code, play with interactive figures, and lots more...\n",
    "\n",
    "For more information visit <https://jupyter.org/>\n",
    "\n",
    "## Jupyter lab\n",
    "\n",
    "This is what you are likely looking at after logging on to the servers. You will be using 4 main components of jupyter lab:\n",
    "\n",
    "1. The code editor\n",
    "2. The file browser\n",
    "3. A command line - where you type UNIX commands\n",
    "4. A code console - where you run python code\n",
    "\n",
    "Please familiarise yourself with Jupyter lab as you will be relying on it through out the course. The documentation <https://jupyterlab.readthedocs.io> is nice and concise.\n",
    "\n",
    "Some useful hotkeys are:\n",
    "    \n",
    "* Shift-Enter : execute the code in the current cell\n",
    "* Enter : edit the current cell\n",
    "* ESC : stop editing a cell and return to \"command mode\" to use other hotkeys\n",
    "* m : Turn the current cell into a Markdown cell\n",
    "* y : Turn the current cell into a code cell\n",
    "* a : add a new cell above\n",
    "* b : add a new cell below\n",
    "* dd : delete the current cell\n",
    "* c : copy the current cell\n",
    "* v : paste the copied cell(s)\n",
    "\n",
    "You can also execute the command ? or help() to get help on any function. For instance, sorted? or help(sorted).\n",
    "\n",
    "## Jupyter Hub\n",
    "\n",
    "Each of you should be able to login to the AARNET server and launch a Jupyter lab instance. The web address for the server is <cloudstor.aarnet.edu.au>. You will need to clone and upload the tutorial repo to your cloudstor account before launching the notebooks with SWAN.\n",
    "\n",
    "> The \"https://\" prefix for the address is required\n",
    "\n",
    "## Using Git and GitHub\n",
    "\n",
    "All tutorial materials for this course are hosted on GitHub. Git is a version control system that is commonly used when programming. It is good practice to use version control systems when coding to avoid those nasty surprises where all your work for no reason at all (it does happen!). GitHub is a service that allows you to have your version controlled code online (like this repository).\n",
    "\n",
    "Common commands you will be using are:\n",
    "\n",
    "1. `git clone https://github.com/adamtaranto/COMP90014_2021 ' - to make a copy of this repository today\n",
    "2. `git pull` - to download changes made every week (i.e. to download the content for each week's tutorial)\n",
    "\n",
    "Excluding the first week, each week you will be following the procedure below to avoid complications when using git:\n",
    "\n",
    "1. Perform a pull using `git pull` - this will download any changes e.g. addition of week1.ipynb\n",
    "2. Create a copy of the tutorial document e.g. copy week2.ipynb to week1_ataranto.ipynb\n",
    "3. Edit the copied version **NOT** the original (edit week1_ataranto.ipynb)\n",
    "\n",
    "Editing the original file will result in complications if you are not familiar with git. If you run into errors, ask your tutor during tutorials and I will help you with them.\n",
    "\n",
    "Too much text? Let your tutor help you out with a demo"
   ]
  },
  {
   "cell_type": "markdown",
   "metadata": {},
   "source": [
    "# Now onto programming in Jupyter Notebooks\n",
    "\n",
    "The cell below is a code cell. The cell following it is the output of that code"
   ]
  },
  {
   "cell_type": "code",
   "execution_count": 1,
   "metadata": {
    "scrolled": true
   },
   "outputs": [
    {
     "name": "stdout",
     "output_type": "stream",
     "text": [
      "Hello world!\n"
     ]
    }
   ],
   "source": [
    "print(\"Hello world!\")"
   ]
  },
  {
   "cell_type": "code",
   "execution_count": 5,
   "metadata": {},
   "outputs": [
    {
     "name": "stdout",
     "output_type": "stream",
     "text": [
      "{(2, 'b'), (3, 'c'), (1, 'a')}\n"
     ]
    }
   ],
   "source": [
    "lista = [1,2,3]\n",
    "listb = ['a','b','c']\n",
    "listc = zip(lista, listb)\n",
    "listc = set(listc)\n",
    "\n",
    "print(listc)"
   ]
  },
  {
   "cell_type": "code",
   "execution_count": 1,
   "metadata": {},
   "outputs": [
    {
     "name": "stdout",
     "output_type": "stream",
     "text": [
      "{'tutors': 'Adam', 'students': ['Lachlan', 'Grace', 'Sam']}\n"
     ]
    }
   ],
   "source": [
    "D = dict()\n",
    "D['tutors'] = \"Adam\"\n",
    "D[\"students\"] = ['Lachlan', 'Grace', 'Sam']\n",
    "\n",
    "print(D)"
   ]
  },
  {
   "cell_type": "code",
   "execution_count": 2,
   "metadata": {},
   "outputs": [
    {
     "name": "stdout",
     "output_type": "stream",
     "text": [
      "{'Person1': {'firstName': 'Adam', 'lastname': 'Taranto'}}\n",
      "Adam\n",
      "dict_keys(['firstName', 'lastname'])\n"
     ]
    }
   ],
   "source": [
    "outer_dictionary = dict()\n",
    "inner_dictionary = dict()\n",
    "\n",
    "inner_dictionary['firstName'] = \"Adam\"\n",
    "inner_dictionary['lastname'] = \"Taranto\"\n",
    "outer_dictionary['Person1'] = inner_dictionary\n",
    "\n",
    "print(outer_dictionary)\n",
    "print(outer_dictionary['Person1']['firstName'])\n",
    "\n",
    "\n",
    "\n",
    "print(inner_dictionary.keys())\n"
   ]
  },
  {
   "cell_type": "code",
   "execution_count": 7,
   "metadata": {},
   "outputs": [],
   "source": [
    "def func():\n",
    "    a = 1\n",
    "    b = \"this is node1\"\n",
    "    c = \"this is node2\"\n",
    "    return a,b,c"
   ]
  },
  {
   "cell_type": "code",
   "execution_count": 8,
   "metadata": {},
   "outputs": [
    {
     "name": "stdout",
     "output_type": "stream",
     "text": [
      "1\n",
      "this is node1\n",
      "this is node2\n"
     ]
    }
   ],
   "source": [
    "dist, node1, node2 = func()\n",
    "\n",
    "print(dist)\n",
    "print(node1)\n",
    "print(node2)"
   ]
  },
  {
   "cell_type": "code",
   "execution_count": 10,
   "metadata": {},
   "outputs": [
    {
     "name": "stdout",
     "output_type": "stream",
     "text": [
      "nodeA-nodeB\n"
     ]
    }
   ],
   "source": [
    "key1 = \"nodeA\"\n",
    "key2 = \"nodeB\"\n",
    "node_name = \"{}-{}\".format(key1, key2)\n",
    "print(node_name)"
   ]
  },
  {
   "cell_type": "code",
   "execution_count": 1,
   "metadata": {},
   "outputs": [
    {
     "name": "stdout",
     "output_type": "stream",
     "text": [
      "<class 'NoneType'>\n",
      "<class 'str'>\n"
     ]
    }
   ],
   "source": [
    "a = None\n",
    "b = 'None'\n",
    "print(type(a))\n",
    "print(type(b))"
   ]
  },
  {
   "cell_type": "code",
   "execution_count": 2,
   "metadata": {},
   "outputs": [],
   "source": [
    "import pandas as pd\n",
    "import numpy as np\n",
    "import networkx as nx\n",
    "import scipy"
   ]
  },
  {
   "cell_type": "code",
   "execution_count": 12,
   "metadata": {},
   "outputs": [
    {
     "data": {
      "text/html": [
       "<div>\n",
       "<style scoped>\n",
       "    .dataframe tbody tr th:only-of-type {\n",
       "        vertical-align: middle;\n",
       "    }\n",
       "\n",
       "    .dataframe tbody tr th {\n",
       "        vertical-align: top;\n",
       "    }\n",
       "\n",
       "    .dataframe thead th {\n",
       "        text-align: right;\n",
       "    }\n",
       "</style>\n",
       "<table border=\"1\" class=\"dataframe\">\n",
       "  <thead>\n",
       "    <tr style=\"text-align: right;\">\n",
       "      <th></th>\n",
       "      <th>0</th>\n",
       "      <th>1</th>\n",
       "      <th>2</th>\n",
       "      <th>3</th>\n",
       "    </tr>\n",
       "  </thead>\n",
       "  <tbody>\n",
       "    <tr>\n",
       "      <th>0</th>\n",
       "      <td>5</td>\n",
       "      <td>4</td>\n",
       "      <td>3</td>\n",
       "      <td>2</td>\n",
       "    </tr>\n",
       "    <tr>\n",
       "      <th>1</th>\n",
       "      <td>10</td>\n",
       "      <td>10</td>\n",
       "      <td>6</td>\n",
       "      <td>8</td>\n",
       "    </tr>\n",
       "  </tbody>\n",
       "</table>\n",
       "</div>"
      ],
      "text/plain": [
       "    0   1  2  3\n",
       "0   5   4  3  2\n",
       "1  10  10  6  8"
      ]
     },
     "execution_count": 12,
     "metadata": {},
     "output_type": "execute_result"
    }
   ],
   "source": [
    "test_df = pd.DataFrame([[5,4,3,2],[10,10,6,8]])\n",
    "test_df"
   ]
  },
  {
   "cell_type": "code",
   "execution_count": 13,
   "metadata": {},
   "outputs": [
    {
     "data": {
      "text/html": [
       "<div>\n",
       "<style scoped>\n",
       "    .dataframe tbody tr th:only-of-type {\n",
       "        vertical-align: middle;\n",
       "    }\n",
       "\n",
       "    .dataframe tbody tr th {\n",
       "        vertical-align: top;\n",
       "    }\n",
       "\n",
       "    .dataframe thead th {\n",
       "        text-align: right;\n",
       "    }\n",
       "</style>\n",
       "<table border=\"1\" class=\"dataframe\">\n",
       "  <thead>\n",
       "    <tr style=\"text-align: right;\">\n",
       "      <th></th>\n",
       "      <th>0</th>\n",
       "      <th>1</th>\n",
       "    </tr>\n",
       "  </thead>\n",
       "  <tbody>\n",
       "    <tr>\n",
       "      <th>0</th>\n",
       "      <td>5</td>\n",
       "      <td>10</td>\n",
       "    </tr>\n",
       "    <tr>\n",
       "      <th>1</th>\n",
       "      <td>4</td>\n",
       "      <td>10</td>\n",
       "    </tr>\n",
       "    <tr>\n",
       "      <th>2</th>\n",
       "      <td>3</td>\n",
       "      <td>6</td>\n",
       "    </tr>\n",
       "    <tr>\n",
       "      <th>3</th>\n",
       "      <td>2</td>\n",
       "      <td>8</td>\n",
       "    </tr>\n",
       "  </tbody>\n",
       "</table>\n",
       "</div>"
      ],
      "text/plain": [
       "   0   1\n",
       "0  5  10\n",
       "1  4  10\n",
       "2  3   6\n",
       "3  2   8"
      ]
     },
     "execution_count": 13,
     "metadata": {},
     "output_type": "execute_result"
    }
   ],
   "source": [
    "test_df.T"
   ]
  },
  {
   "cell_type": "code",
   "execution_count": 15,
   "metadata": {},
   "outputs": [
    {
     "data": {
      "text/html": [
       "<div>\n",
       "<style scoped>\n",
       "    .dataframe tbody tr th:only-of-type {\n",
       "        vertical-align: middle;\n",
       "    }\n",
       "\n",
       "    .dataframe tbody tr th {\n",
       "        vertical-align: top;\n",
       "    }\n",
       "\n",
       "    .dataframe thead th {\n",
       "        text-align: right;\n",
       "    }\n",
       "</style>\n",
       "<table border=\"1\" class=\"dataframe\">\n",
       "  <thead>\n",
       "    <tr style=\"text-align: right;\">\n",
       "      <th></th>\n",
       "      <th>0</th>\n",
       "      <th>1</th>\n",
       "      <th>2</th>\n",
       "      <th>3</th>\n",
       "    </tr>\n",
       "  </thead>\n",
       "  <tbody>\n",
       "    <tr>\n",
       "      <th>0</th>\n",
       "      <td>5</td>\n",
       "      <td>4</td>\n",
       "      <td>3</td>\n",
       "      <td>2</td>\n",
       "    </tr>\n",
       "    <tr>\n",
       "      <th>1</th>\n",
       "      <td>10</td>\n",
       "      <td>10</td>\n",
       "      <td>6</td>\n",
       "      <td>8</td>\n",
       "    </tr>\n",
       "  </tbody>\n",
       "</table>\n",
       "</div>"
      ],
      "text/plain": [
       "    0   1  2  3\n",
       "0   5   4  3  2\n",
       "1  10  10  6  8"
      ]
     },
     "execution_count": 15,
     "metadata": {},
     "output_type": "execute_result"
    }
   ],
   "source": [
    "test_df"
   ]
  },
  {
   "cell_type": "code",
   "execution_count": 16,
   "metadata": {},
   "outputs": [
    {
     "data": {
      "text/plain": [
       "0    3.5\n",
       "1    8.5\n",
       "dtype: float64"
      ]
     },
     "execution_count": 16,
     "metadata": {},
     "output_type": "execute_result"
    }
   ],
   "source": [
    "test_df.transpose().mean()"
   ]
  },
  {
   "cell_type": "code",
   "execution_count": 19,
   "metadata": {},
   "outputs": [
    {
     "data": {
      "text/plain": [
       "array([[ 1.,  0.,  0.],\n",
       "       [ 0.,  1.,  0.],\n",
       "       [ 0.,  0.,  1.]])"
      ]
     },
     "execution_count": 19,
     "metadata": {},
     "output_type": "execute_result"
    }
   ],
   "source": [
    "np.identity(3)"
   ]
  },
  {
   "cell_type": "markdown",
   "metadata": {},
   "source": [
    "Resources: \n",
    "\n",
    "\n",
    "https://scikit-learn.org/stable/modules/generated/sklearn.decomposition.PCA.html"
   ]
  },
  {
   "cell_type": "markdown",
   "metadata": {},
   "source": [
    "PCA: https://www.youtube.com/watch?v=FgakZw6K1QQ"
   ]
  },
  {
   "cell_type": "code",
   "execution_count": null,
   "metadata": {},
   "outputs": [],
   "source": []
  }
 ],
 "metadata": {
  "kernelspec": {
   "display_name": "Python 3",
   "language": "python",
   "name": "python3"
  },
  "language_info": {
   "codemirror_mode": {
    "name": "ipython",
    "version": 3
   },
   "file_extension": ".py",
   "mimetype": "text/x-python",
   "name": "python",
   "nbconvert_exporter": "python",
   "pygments_lexer": "ipython3",
   "version": "3.8.8"
  }
 },
 "nbformat": 4,
 "nbformat_minor": 2
}
