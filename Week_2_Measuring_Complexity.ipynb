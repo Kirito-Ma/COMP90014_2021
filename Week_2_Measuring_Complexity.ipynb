{
 "cells": [
  {
   "cell_type": "markdown",
   "metadata": {},
   "source": [
    "# Week 2 - Measuring Complexity"
   ]
  },
  {
   "cell_type": "markdown",
   "metadata": {},
   "source": [
    "This week:\n",
    "\n",
    "1. Launch this notebook with SWAN at cloudstor.aarnet.edu.au\n",
    "4. Try the empirical complexity exercises below\n"
   ]
  },
  {
   "cell_type": "markdown",
   "metadata": {},
   "source": [
    "## Exploring JupyterLab "
   ]
  },
  {
   "cell_type": "markdown",
   "metadata": {},
   "source": [
    "You can find a User Guide with a description of features at http://jupyterlab.readthedocs.io\n",
    "\n",
    "The main interface we'll be using is the Jupyter Notebook interface. If you prefer to run just Jupyter Notebook itself instead of Jupyter Lab, that is fine. \n",
    "\n",
    "Some useful hotkeys are:\n",
    "\n",
    "* Shift-Enter : execute the code in the current cell\n",
    "* Enter : edit the current cell\n",
    "* ESC : stop editing a cell and return to \"command mode\" to use other hotkeys\n",
    "* m : Turn the current cell into a Markdown cell\n",
    "* y : Turn the current cell into a code cell\n",
    "* a : add a new cell above\n",
    "* b : add a new cell below\n",
    "* dd : delete the current cell\n",
    "* c : copy the current cell\n",
    "* v : paste the copied cell(s)\n",
    "\n",
    "You can also execute the command `?` or `help()` to get help on any function. For instance, `sorted?` or `help(sorted)`."
   ]
  },
  {
   "cell_type": "markdown",
   "metadata": {},
   "source": [
    "# Measuring complexity "
   ]
  },
  {
   "cell_type": "markdown",
   "metadata": {},
   "source": [
    "## Imports "
   ]
  },
  {
   "cell_type": "code",
   "execution_count": 1,
   "metadata": {},
   "outputs": [],
   "source": [
    "# Get matplotlib plots to appear inline in the notebook\n",
    "%matplotlib inline\n",
    "import matplotlib.pyplot as plt"
   ]
  },
  {
   "cell_type": "code",
   "execution_count": 2,
   "metadata": {},
   "outputs": [],
   "source": [
    "import numpy as np"
   ]
  },
  {
   "cell_type": "code",
   "execution_count": 3,
   "metadata": {},
   "outputs": [],
   "source": [
    "from sort_utilities import time_sort, completely_sorted_list, nearly_sorted_list, random_list, reversed_list"
   ]
  },
  {
   "cell_type": "markdown",
   "metadata": {},
   "source": [
    "## Insertion sort "
   ]
  },
  {
   "cell_type": "markdown",
   "metadata": {},
   "source": [
    "Here is an implementation of insertion sort, discussed in lectures.\n",
    "\n",
    "This implementation sorts the list in-place, so the original list will also be modified."
   ]
  },
  {
   "cell_type": "code",
   "execution_count": 4,
   "metadata": {},
   "outputs": [],
   "source": [
    "def isort(items):\n",
    "    \"\"\"\n",
    "    Sort a list in-place using insertion sort\n",
    "    \"\"\"\n",
    "    for index in range(1, len(items)):\n",
    "        next_item = items[index]\n",
    "        while index >= 1 and (next_item < items[index - 1]):\n",
    "            items[index] = items[index - 1]\n",
    "            index -= 1\n",
    "        items[index] = next_item\n",
    "    return items"
   ]
  },
  {
   "cell_type": "markdown",
   "metadata": {},
   "source": [
    "We've imported some functions that create lists with different properties (you can see these in `sort_utilities.py`). Execute the following code cells:"
   ]
  },
  {
   "cell_type": "code",
   "execution_count": 5,
   "metadata": {},
   "outputs": [
    {
     "data": {
      "text/plain": [
       "[6, 8, 4, 9, 7, 3, 1, 5, 0, 2]"
      ]
     },
     "execution_count": 5,
     "metadata": {},
     "output_type": "execute_result"
    }
   ],
   "source": [
    "random_list(10)"
   ]
  },
  {
   "cell_type": "code",
   "execution_count": 6,
   "metadata": {},
   "outputs": [
    {
     "data": {
      "text/plain": [
       "[0, 1, 2, 3, 4, 5, 6, 7, 8, 9]"
      ]
     },
     "execution_count": 6,
     "metadata": {},
     "output_type": "execute_result"
    }
   ],
   "source": [
    "nearly_sorted_list(10)"
   ]
  },
  {
   "cell_type": "code",
   "execution_count": 7,
   "metadata": {},
   "outputs": [
    {
     "data": {
      "text/plain": [
       "[9, 8, 7, 6, 5, 4, 3, 2, 1, 0]"
      ]
     },
     "execution_count": 7,
     "metadata": {},
     "output_type": "execute_result"
    }
   ],
   "source": [
    "reversed_list(10)"
   ]
  },
  {
   "cell_type": "code",
   "execution_count": 8,
   "metadata": {},
   "outputs": [
    {
     "data": {
      "text/plain": [
       "[0, 1, 2, 3, 4, 5, 6, 7, 8, 9]"
      ]
     },
     "execution_count": 8,
     "metadata": {},
     "output_type": "execute_result"
    }
   ],
   "source": [
    "completely_sorted_list(10)"
   ]
  },
  {
   "cell_type": "markdown",
   "metadata": {},
   "source": [
    "Let's test the performance of insertion sort using Jupyter's `%timeit` magic. We'll make the list outside the timed cell, as we don't want to time the creation."
   ]
  },
  {
   "cell_type": "code",
   "execution_count": 9,
   "metadata": {},
   "outputs": [],
   "source": [
    "items = random_list(10)"
   ]
  },
  {
   "cell_type": "code",
   "execution_count": 10,
   "metadata": {},
   "outputs": [
    {
     "name": "stdout",
     "output_type": "stream",
     "text": [
      "1.11 µs ± 48.5 ns per loop (mean ± std. dev. of 7 runs, 1000000 loops each)\n"
     ]
    }
   ],
   "source": [
    "%timeit isort(items)"
   ]
  },
  {
   "cell_type": "markdown",
   "metadata": {},
   "source": [
    "On a bigger list:"
   ]
  },
  {
   "cell_type": "code",
   "execution_count": 11,
   "metadata": {},
   "outputs": [],
   "source": [
    "items = random_list(1000)"
   ]
  },
  {
   "cell_type": "code",
   "execution_count": 12,
   "metadata": {},
   "outputs": [
    {
     "name": "stdout",
     "output_type": "stream",
     "text": [
      "109 µs ± 3.24 µs per loop (mean ± std. dev. of 7 runs, 10000 loops each)\n"
     ]
    }
   ],
   "source": [
    "%timeit isort(items)"
   ]
  },
  {
   "cell_type": "markdown",
   "metadata": {},
   "source": [
    "We've also imported a `time_sort()` function that you can use to time a sort function once you've written it, and get the result. "
   ]
  },
  {
   "cell_type": "code",
   "execution_count": 13,
   "metadata": {},
   "outputs": [
    {
     "data": {
      "text/plain": [
       "[<matplotlib.lines.Line2D at 0x7fc4d41143a0>]"
      ]
     },
     "execution_count": 13,
     "metadata": {},
     "output_type": "execute_result"
    },
    {
     "data": {
      "image/png": "[encoded data removed]",
      "text/plain": [
       "<Figure size 432x288 with 1 Axes>"
      ]
     },
     "metadata": {
      "needs_background": "light"
     },
     "output_type": "display_data"
    }
   ],
   "source": [
    "# Test insertion sort on reverse-sorted lists of different size,\n",
    "# and plot the results\n",
    "\n",
    "N_values = list(range(10,5000,200))\n",
    "time_values = []\n",
    "\n",
    "for N in N_values:\n",
    "    input_list = reversed_list(N)\n",
    "    time_taken = time_sort(isort, input_list)\n",
    "    time_values.append(time_taken)\n",
    "\n",
    "plt.plot(N_values, time_values)"
   ]
  },
  {
   "cell_type": "code",
   "execution_count": 14,
   "metadata": {},
   "outputs": [
    {
     "data": {
      "text/plain": [
       "[<matplotlib.lines.Line2D at 0x7fc4d42c42b0>]"
      ]
     },
     "execution_count": 14,
     "metadata": {},
     "output_type": "execute_result"
    },
    {
     "data": {
      "image/png": "[encoded data removed]",
      "text/plain": [
       "<Figure size 432x288 with 1 Axes>"
      ]
     },
     "metadata": {
      "needs_background": "light"
     },
     "output_type": "display_data"
    }
   ],
   "source": [
    "# Test insertion sort on nearly-sorted lists of different size,\n",
    "# and plot the results\n",
    "\n",
    "N_values = list(range(10,5000,200))\n",
    "time_values = []\n",
    "\n",
    "for N in N_values:\n",
    "    input_list = nearly_sorted_list(N)\n",
    "    time_taken = time_sort(isort, input_list)\n",
    "    time_values.append(time_taken)\n",
    "\n",
    "plt.plot(N_values, time_values)"
   ]
  },
  {
   "cell_type": "code",
   "execution_count": 23,
   "metadata": {},
   "outputs": [
    {
     "data": {
      "text/plain": [
       "[<matplotlib.lines.Line2D at 0x7fdb002b5a58>]"
      ]
     },
     "execution_count": 23,
     "metadata": {},
     "output_type": "execute_result"
    },
    {
     "data": {
      "image/png": "[encoded data removed]",
      "text/plain": [
       "<Figure size 432x288 with 1 Axes>"
      ]
     },
     "metadata": {},
     "output_type": "display_data"
    }
   ],
   "source": [
    "# Test insertion sort on randomly-sorted lists of different size,\n",
    "# and plot the results\n",
    "\n",
    "N_values = list(range(10,5000,200))\n",
    "time_values = []\n",
    "\n",
    "for N in N_values:\n",
    "    input_list = random_list(N)\n",
    "    time_taken = time_sort(isort, input_list)\n",
    "    time_values.append(time_taken)\n",
    "\n",
    "plt.plot(N_values, time_values)"
   ]
  },
  {
   "cell_type": "markdown",
   "metadata": {},
   "source": [
    "Notice that above we can get extra randomness in our timings due to the randomness in the input lists - some inputs were harder to sort than others. How could you improve this test?"
   ]
  },
  {
   "cell_type": "markdown",
   "metadata": {},
   "source": [
    "## Selection sort "
   ]
  },
  {
   "cell_type": "markdown",
   "metadata": {},
   "source": [
    "The selection sort algorithm similar to the insertion sort algorithm discussed in lectures, but even simpler to implement. Here is a version of the algorithm in words:\n",
    "\n",
    "1. Initialise the sorted list as an empty list\n",
    "2. Search the original list for the smallest element\n",
    "3. Remove this element from the original list and insert it at the end of the sorted list \n",
    "4. Repeat from step 2 until the unsorted list is empty\n",
    "\n",
    "Since we built the sorted list from the smallest to the largest element, we can just add each new element on to the end."
   ]
  },
  {
   "cell_type": "markdown",
   "metadata": {},
   "source": [
    "**Challenge:** \n",
    "\n",
    "Think theoretically: what do you expect the upper-bound (big-O) asymptotic complexity of selection sort to be?"
   ]
  },
  {
   "cell_type": "markdown",
   "metadata": {},
   "source": [
    "**Challenge:** \n",
    "\n",
    "1. Implement selection sort below. \n",
    "2. Draw plots similar to the insertion sort plots above to test the behaviour of selection sort with random, inverted, and nearly-sorted lists"
   ]
  },
  {
   "cell_type": "code",
   "execution_count": 15,
   "metadata": {},
   "outputs": [],
   "source": [
    "def selection_sort(unsorted):\n",
    "    # Replace the code below so that we sort the list instead\n",
    "    # of just returning the original list\n",
    "    \n",
    "    sorted_list = unsorted\n",
    "    return sorted_list"
   ]
  },
  {
   "cell_type": "code",
   "execution_count": 17,
   "metadata": {},
   "outputs": [
    {
     "name": "stdout",
     "output_type": "stream",
     "text": [
      "[5, 3, 7, 22, 4, 3]\n"
     ]
    }
   ],
   "source": [
    "x = [5,3,7,22,4,3]\n",
    "print(selection_sort(x))\n",
    "assert selection_sort(x) == sorted(x)"
   ]
  },
  {
   "cell_type": "markdown",
   "metadata": {},
   "source": [
    "## Merge sort"
   ]
  },
  {
   "cell_type": "markdown",
   "metadata": {},
   "source": [
    "Here is the merge sort code given in lectures:"
   ]
  },
  {
   "cell_type": "code",
   "execution_count": null,
   "metadata": {},
   "outputs": [],
   "source": [
    "def msort(items):\n",
    "    len_list = len(items)\n",
    "    if len_list <= 1:\n",
    "        return items\n",
    "    else:\n",
    "        mid_point = len_list//2\n",
    "        top = items[:mid_point]\n",
    "        bottom = items[mid_point:]\n",
    "        return merge(msort(top), msort(bottom))"
   ]
  },
  {
   "cell_type": "markdown",
   "metadata": {},
   "source": [
    "This function won't work yet because it depends on a `merge()` function, which we haven't defined."
   ]
  },
  {
   "cell_type": "markdown",
   "metadata": {},
   "source": [
    "**Challenge:** Write a merge function to merge two lists. Assume both lists are already sorted, and ensure that the resulting list is sorted."
   ]
  },
  {
   "cell_type": "code",
   "execution_count": null,
   "metadata": {},
   "outputs": [],
   "source": [
    "def merge(list1, list2):\n",
    "    # Replace the code below so that we merge the lists properly\n",
    "    # instead of just appending one after the other\n",
    "    merged = list1 + list2\n",
    "    return merged"
   ]
  },
  {
   "cell_type": "code",
   "execution_count": null,
   "metadata": {},
   "outputs": [],
   "source": [
    "x1 = [4,6,9]\n",
    "x2 = [2,6,20,21]\n",
    "print(merge(x1,x2))\n",
    "assert merge(x1,x2) == [2,4,6,6,9,20,21]"
   ]
  },
  {
   "cell_type": "markdown",
   "metadata": {},
   "source": [
    "Once you have `merge()` working, `msort()` should work correctly:"
   ]
  },
  {
   "cell_type": "code",
   "execution_count": null,
   "metadata": {},
   "outputs": [],
   "source": [
    "x = [5,3,7,22,4,3]\n",
    "print(msort(x))\n",
    "assert msort(x) == sorted(x)"
   ]
  },
  {
   "cell_type": "markdown",
   "metadata": {},
   "source": [
    "**Exercise:** Draw plots similar to the insertion sort plots above to test the behaviour of merge sort with random, inverted, and nearly-sorted lists."
   ]
  },
  {
   "cell_type": "code",
   "execution_count": null,
   "metadata": {},
   "outputs": [],
   "source": []
  }
 ],
 "metadata": {
  "kernelspec": {
   "display_name": "Python 3",
   "language": "python",
   "name": "python3"
  },
  "language_info": {
   "codemirror_mode": {
    "name": "ipython",
    "version": 3
   },
   "file_extension": ".py",
   "mimetype": "text/x-python",
   "name": "python",
   "nbconvert_exporter": "python",
   "pygments_lexer": "ipython3",
   "version": "3.8.8"
  }
 },
 "nbformat": 4,
 "nbformat_minor": 2
}
